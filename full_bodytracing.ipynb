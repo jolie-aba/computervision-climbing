{
 "cells": [
  {
   "cell_type": "code",
   "execution_count": 1,
   "id": "3db9337f",
   "metadata": {},
   "outputs": [
    {
     "name": "stderr",
     "output_type": "stream",
     "text": [
      "2024-02-23 13:55:22.418061: I tensorflow/core/platform/cpu_feature_guard.cc:182] This TensorFlow binary is optimized to use available CPU instructions in performance-critical operations.\n",
      "To enable the following instructions: AVX2 FMA, in other operations, rebuild TensorFlow with the appropriate compiler flags.\n"
     ]
    }
   ],
   "source": [
    "import cv2 as cv\n",
    "import mediapipe as mp"
   ]
  },
  {
   "cell_type": "markdown",
   "id": "f96c1888",
   "metadata": {},
   "source": [
    "## Import Libraries\n",
    "\n",
    "This section imports the necessary libraries for the pose estimation task.\n",
    "\n",
    "- `cv2`: This is the OpenCV library, which provides tools for image and video processing.\n",
    "- `mediapipe`: A library developed by Google that offers pre-trained models and tools for various tasks, including pose estimation.\n"
   ]
  },
  {
   "cell_type": "code",
   "execution_count": 2,
   "id": "85c54fec",
   "metadata": {},
   "outputs": [],
   "source": [
    "mp_pose = mp.solutions.pose\n",
    "pose = mp_pose.Pose()\n"
   ]
  },
  {
   "cell_type": "markdown",
   "id": "c1c92b08",
   "metadata": {},
   "source": [
    "## Initialize MediaPipe Pose\n",
    "\n",
    "Here, we initialize the pose estimation model provided by MediaPipe.\n",
    "\n",
    "- `mp_pose`: This acts as a reference to the pose solutions in MediaPipe.\n",
    "- `pose`: An instance of the pose model, ready to process images and videos.\n"
   ]
  },
  {
   "cell_type": "code",
   "execution_count": 3,
   "id": "42af5192",
   "metadata": {},
   "outputs": [
    {
     "name": "stderr",
     "output_type": "stream",
     "text": [
      "INFO: Created TensorFlow Lite XNNPACK delegate for CPU.\n",
      "OpenCV: Couldn't read video stream from file \"/Users/jolie/CODING/MOVEMENT TRACING/IMG_0521.mov\"\n"
     ]
    }
   ],
   "source": [
    "video_path = '/Users/jolie/CODING/MOVEMENT TRACING/IMG_0521.mov'\n",
    "cap = cv.VideoCapture(video_path)\n"
   ]
  },
  {
   "cell_type": "markdown",
   "id": "feaf1be0",
   "metadata": {},
   "source": [
    "## Initialize Video Capture\n",
    "\n",
    "In this section, we set up the video capture using OpenCV.\n",
    "\n",
    "- `video_path`: The path to the video file that will be processed.\n",
    "- `cap`: This is the video capture object which will be used to read frames from the video specified by `video_path`.\n"
   ]
  },
  {
   "cell_type": "code",
   "execution_count": 4,
   "id": "d4636f16",
   "metadata": {},
   "outputs": [],
   "source": [
    "while cv.waitKey(1) < 0:\n",
    "    hasFrame, frame = cap.read()\n",
    "    if not hasFrame:\n",
    "        cv.waitKey()\n",
    "        break\n",
    "\n",
    "    # Convert the BGR image to RGB\n",
    "    rgb_frame = cv.cvtColor(frame, cv.COLOR_BGR2RGB)\n",
    "    results = pose.process(rgb_frame)\n",
    "\n",
    "    # Draw the pose landmarks on the frame\n",
    "    if results.pose_landmarks:\n",
    "        for connection in mp_pose.POSE_CONNECTIONS:\n",
    "            start_idx = connection[0]\n",
    "            end_idx = connection[1]\n",
    "            if results.pose_landmarks.landmark[start_idx].visibility > 0.5 and results.pose_landmarks.landmark[end_idx].visibility > 0.5:\n",
    "                start = tuple([int(results.pose_landmarks.landmark[start_idx].x * frame.shape[1]), int(results.pose_landmarks.landmark[start_idx].y * frame.shape[0])])\n",
    "                end = tuple([int(results.pose_landmarks.landmark[end_idx].x * frame.shape[1]), int(results.pose_landmarks.landmark[end_idx].y * frame.shape[0])])\n",
    "                cv.line(frame, start, end, (0, 255, 0), 3)\n",
    "                cv.ellipse(frame, start, (3, 3), 0, 0, 360, (0, 0, 255), cv.FILLED)\n",
    "                cv.ellipse(frame, end, (3, 3), 0, 0, 360, (0, 0, 255), cv.FILLED)\n",
    "\n",
    "    cv.imshow('Pose Estimation using MediaPipe', frame)\n"
   ]
  },
  {
   "cell_type": "markdown",
   "id": "543079d9",
   "metadata": {},
   "source": [
    "## Process and Display Video Frames\n",
    "\n",
    "This is the main loop where each frame of the video is processed and displayed.\n",
    "\n",
    "- The loop continues until a key is pressed.\n",
    "- Each frame is read from the video capture object.\n",
    "- The frame is then converted from BGR to RGB format, as MediaPipe uses RGB.\n",
    "- The pose estimation model processes the RGB frame and returns pose landmarks.\n",
    "- If pose landmarks are detected, they are drawn on the frame.\n",
    "- The processed frame, with pose landmarks, is displayed in a window titled 'Pose Estimation using MediaPipe'.\n"
   ]
  },
  {
   "cell_type": "code",
   "execution_count": null,
   "id": "b002c449",
   "metadata": {},
   "outputs": [],
   "source": [
    "cap.release()\n",
    "cv.destroyAllWindows()\n"
   ]
  },
  {
   "cell_type": "markdown",
   "id": "8746cc8c",
   "metadata": {},
   "source": [
    "## Release Video Capture and Close Windows\n",
    "\n",
    "After processing all frames, or if the video is interrupted:\n",
    "\n",
    "- The video capture object (`cap`) is released, freeing up resources.\n",
    "- All OpenCV windows are destroyed, closing any open display windows.\n"
   ]
  }
 ],
 "metadata": {
  "kernelspec": {
   "display_name": "Python 3 (ipykernel)",
   "language": "python",
   "name": "python3"
  },
  "language_info": {
   "codemirror_mode": {
    "name": "ipython",
    "version": 3
   },
   "file_extension": ".py",
   "mimetype": "text/x-python",
   "name": "python",
   "nbconvert_exporter": "python",
   "pygments_lexer": "ipython3",
   "version": "3.11.5"
  }
 },
 "nbformat": 4,
 "nbformat_minor": 5
}
